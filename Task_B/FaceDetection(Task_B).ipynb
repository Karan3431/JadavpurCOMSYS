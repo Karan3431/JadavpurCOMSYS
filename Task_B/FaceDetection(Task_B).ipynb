{
  "nbformat": 4,
  "nbformat_minor": 0,
  "metadata": {
    "colab": {
      "provenance": [],
      "gpuType": "T4"
    },
    "kernelspec": {
      "name": "python3",
      "display_name": "Python 3"
    },
    "language_info": {
      "name": "python"
    },
    "accelerator": "GPU"
  },
  "cells": [
    {
      "cell_type": "code",
      "execution_count": 1,
      "metadata": {
        "colab": {
          "base_uri": "https://localhost:8080/"
        },
        "id": "DTPKkwlqZ0yP",
        "outputId": "cfef073c-6031-4730-e9b0-9b69300c32c7"
      },
      "outputs": [
        {
          "output_type": "stream",
          "name": "stdout",
          "text": [
            "Requirement already satisfied: gdown in /usr/local/lib/python3.11/dist-packages (5.2.0)\n",
            "Requirement already satisfied: beautifulsoup4 in /usr/local/lib/python3.11/dist-packages (from gdown) (4.13.4)\n",
            "Requirement already satisfied: filelock in /usr/local/lib/python3.11/dist-packages (from gdown) (3.18.0)\n",
            "Requirement already satisfied: requests[socks] in /usr/local/lib/python3.11/dist-packages (from gdown) (2.32.3)\n",
            "Requirement already satisfied: tqdm in /usr/local/lib/python3.11/dist-packages (from gdown) (4.67.1)\n",
            "Requirement already satisfied: soupsieve>1.2 in /usr/local/lib/python3.11/dist-packages (from beautifulsoup4->gdown) (2.7)\n",
            "Requirement already satisfied: typing-extensions>=4.0.0 in /usr/local/lib/python3.11/dist-packages (from beautifulsoup4->gdown) (4.14.0)\n",
            "Requirement already satisfied: charset-normalizer<4,>=2 in /usr/local/lib/python3.11/dist-packages (from requests[socks]->gdown) (3.4.2)\n",
            "Requirement already satisfied: idna<4,>=2.5 in /usr/local/lib/python3.11/dist-packages (from requests[socks]->gdown) (3.10)\n",
            "Requirement already satisfied: urllib3<3,>=1.21.1 in /usr/local/lib/python3.11/dist-packages (from requests[socks]->gdown) (2.4.0)\n",
            "Requirement already satisfied: certifi>=2017.4.17 in /usr/local/lib/python3.11/dist-packages (from requests[socks]->gdown) (2025.6.15)\n",
            "Requirement already satisfied: PySocks!=1.5.7,>=1.5.6 in /usr/local/lib/python3.11/dist-packages (from requests[socks]->gdown) (1.7.1)\n"
          ]
        }
      ],
      "source": [
        "!pip install -U gdown"
      ]
    },
    {
      "cell_type": "code",
      "source": [
        "!gdown --id 1KXx1CW-BM3muxzCtmyhyv9xtWco_nDbL --output dataset.zip\n",
        "!unzip dataset.zip"
      ],
      "metadata": {
        "colab": {
          "base_uri": "https://localhost:8080/"
        },
        "id": "zap4m4vca4Sf",
        "outputId": "e6fa2133-2a2a-4668-be6b-14e58efcd064"
      },
      "execution_count": 2,
      "outputs": [
        {
          "output_type": "stream",
          "name": "stdout",
          "text": [
            "/usr/local/lib/python3.11/dist-packages/gdown/__main__.py:140: FutureWarning: Option `--id` was deprecated in version 4.3.1 and will be removed in 5.0. You don't need to pass it anymore to use a file ID.\n",
            "  warnings.warn(\n",
            "Downloading...\n",
            "From (original): https://drive.google.com/uc?id=1KXx1CW-BM3muxzCtmyhyv9xtWco_nDbL\n",
            "From (redirected): https://drive.google.com/uc?id=1KXx1CW-BM3muxzCtmyhyv9xtWco_nDbL&confirm=t&uuid=f7f1dfc8-1582-40c8-8cee-b506fc146018\n",
            "To: /content/dataset.zip\n",
            "100% 2.38G/2.38G [00:27<00:00, 87.6MB/s]\n",
            "Archive:  dataset.zip\n",
            "replace Comys_Hackathon5/Task_B/val/Jennifer_Keller/Jennifer_Keller_0004.jpg? [y]es, [n]o, [A]ll, [N]one, [r]ename: "
          ]
        }
      ]
    },
    {
      "cell_type": "code",
      "source": [
        "import os\n",
        "\n",
        "taskB_train_path = '/content/Comys_Hackathon5/Task_B/train'\n",
        "reorganized_base_path = '/content/Comys_Hackathon5/Task_B_reorganized'\n",
        "\n",
        "print(f\"Original Task B training path: {taskB_train_path}\")\n",
        "print(f\"Reorganized base path: {reorganized_base_path}\")"
      ],
      "metadata": {
        "colab": {
          "base_uri": "https://localhost:8080/"
        },
        "id": "yVGMKTo_cwIv",
        "outputId": "1458a560-816e-461d-f520-0f2c70fd10cb"
      },
      "execution_count": 3,
      "outputs": [
        {
          "output_type": "stream",
          "name": "stdout",
          "text": [
            "Original Task B training path: /content/Comys_Hackathon5/Task_B/train\n",
            "Reorganized base path: /content/Comys_Hackathon5/Task_B_reorganized\n"
          ]
        }
      ]
    },
    {
      "cell_type": "code",
      "source": [
        "if not os.path.exists(reorganized_base_path):\n",
        "    os.makedirs(reorganized_base_path)\n",
        "    print(f\"Created reorganized base path: {reorganized_base_path}\")\n",
        "\n",
        "if os.path.exists(taskB_train_path):\n",
        "    for person_name in os.listdir(taskB_train_path):\n",
        "        person_dir = os.path.join(taskB_train_path, person_name)\n",
        "        if os.path.isdir(person_dir):\n",
        "            new_person_dir = os.path.join(reorganized_base_path, person_name)\n",
        "            if not os.path.exists(new_person_dir):\n",
        "                os.makedirs(new_person_dir)\n",
        "                print(f\"Created class directory for: {person_name}\")\n",
        "else:\n",
        "    print(f\"Original Task B training path not found: {taskB_train_path}\")"
      ],
      "metadata": {
        "id": "cVRRbV4cc1s0"
      },
      "execution_count": 4,
      "outputs": []
    },
    {
      "cell_type": "code",
      "source": [
        "import shutil\n",
        "\n",
        "if os.path.exists(taskB_train_path) and os.path.exists(reorganized_base_path):\n",
        "    for person_name in os.listdir(taskB_train_path):\n",
        "        person_dir = os.path.join(taskB_train_path, person_name)\n",
        "        if os.path.isdir(person_dir):\n",
        "            distortion_dir = os.path.join(person_dir, 'distortion')\n",
        "            new_person_dir = os.path.join(reorganized_base_path, person_name)\n",
        "\n",
        "            if os.path.exists(distortion_dir) and os.path.isdir(distortion_dir):\n",
        "                for file_name in os.listdir(distortion_dir):\n",
        "                    if file_name.lower().endswith(('.jpg', '.jpeg', '.png')):\n",
        "                        source_path = os.path.join(distortion_dir, file_name)\n",
        "                        destination_path = os.path.join(new_person_dir, file_name)\n",
        "                        try:\n",
        "                            shutil.move(source_path, destination_path)\n",
        "                            print(f\"Moved '{file_name}' to '{new_person_dir}'\")\n",
        "                        except FileNotFoundError:\n",
        "                            print(f\"Error: Source file not found - '{source_path}'\")\n",
        "                        except Exception as e:\n",
        "                            print(f\"Error moving file '{file_name}': {e}\")\n",
        "else:\n",
        "    print(f\"Original Task B training path or reorganized base path not found.\")\n"
      ],
      "metadata": {
        "id": "BrqvDXDrc7jL"
      },
      "execution_count": 5,
      "outputs": []
    },
    {
      "cell_type": "code",
      "source": [
        "import os\n",
        "\n",
        "taskB_val_path = '/content/Comys_Hackathon5/Task_B/val'\n",
        "reorganized_base_path = '/content/Comys_Hackathon5/Task_B_reorganized_val'\n",
        "\n",
        "print(f\"Original Task B training path: {taskB_val_path}\")\n",
        "print(f\"Reorganized base path: {reorganized_base_path}\")"
      ],
      "metadata": {
        "colab": {
          "base_uri": "https://localhost:8080/"
        },
        "id": "FoMdlZKpdCrS",
        "outputId": "60f5c1d8-0049-42d9-c375-fe7620112b2a"
      },
      "execution_count": 6,
      "outputs": [
        {
          "output_type": "stream",
          "name": "stdout",
          "text": [
            "Original Task B training path: /content/Comys_Hackathon5/Task_B/val\n",
            "Reorganized base path: /content/Comys_Hackathon5/Task_B_reorganized_val\n"
          ]
        }
      ]
    },
    {
      "cell_type": "code",
      "source": [
        "if not os.path.exists(reorganized_base_path):\n",
        "    os.makedirs(reorganized_base_path)\n",
        "    print(f\"Created reorganized base path: {reorganized_base_path}\")\n",
        "\n",
        "if os.path.exists(taskB_val_path):\n",
        "    for person_name in os.listdir(taskB_val_path):\n",
        "        person_dir = os.path.join(taskB_val_path, person_name)\n",
        "        if os.path.isdir(person_dir):\n",
        "            new_person_dir = os.path.join(reorganized_base_path, person_name)\n",
        "            if not os.path.exists(new_person_dir):\n",
        "                os.makedirs(new_person_dir)\n",
        "                print(f\"Created class directory for: {person_name}\")\n",
        "else:\n",
        "    print(f\"Original Task B training path not found: {taskB_val_path}\")"
      ],
      "metadata": {
        "id": "DxHRyUqEdHqh"
      },
      "execution_count": 7,
      "outputs": []
    },
    {
      "cell_type": "code",
      "source": [
        "import shutil\n",
        "\n",
        "if os.path.exists(taskB_val_path) and os.path.exists(reorganized_base_path):\n",
        "    for person_name in os.listdir(taskB_val_path):\n",
        "        person_dir = os.path.join(taskB_val_path, person_name)\n",
        "        if os.path.isdir(person_dir):\n",
        "            distortion_dir = os.path.join(person_dir, 'distortion')\n",
        "            new_person_dir = os.path.join(reorganized_base_path, person_name)\n",
        "\n",
        "            if os.path.exists(distortion_dir) and os.path.isdir(distortion_dir):\n",
        "                for file_name in os.listdir(distortion_dir):\n",
        "                    if file_name.lower().endswith(('.jpg', '.jpeg', '.png')):\n",
        "                        source_path = os.path.join(distortion_dir, file_name)\n",
        "                        destination_path = os.path.join(new_person_dir, file_name)\n",
        "                        try:\n",
        "                            shutil.move(source_path, destination_path)\n",
        "                            print(f\"Moved '{file_name}' to '{new_person_dir}'\")\n",
        "                        except FileNotFoundError:\n",
        "                            print(f\"Error: Source file not found - '{source_path}'\")\n",
        "                        except Exception as e:\n",
        "                            print(f\"Error moving file '{file_name}': {e}\")\n",
        "else:\n",
        "    print(f\"Original Task B training path or reorganized base path not found.\")"
      ],
      "metadata": {
        "id": "MoT24cq_dMYZ"
      },
      "execution_count": 8,
      "outputs": []
    },
    {
      "cell_type": "code",
      "source": [
        "import os\n",
        "\n",
        "# Path to your reorganized dataset\n",
        "reorganized_base_path = \"/content/Comys_Hackathon5/Task_B_reorganized\"\n",
        "\n",
        "# Count class directories (each representing one person)\n",
        "num_classes = len([\n",
        "    name for name in os.listdir(reorganized_base_path)\n",
        "    if os.path.isdir(os.path.join(reorganized_base_path, name))\n",
        "])\n",
        "\n",
        "print(f\"Total number of classes (persons): {num_classes}\")"
      ],
      "metadata": {
        "colab": {
          "base_uri": "https://localhost:8080/"
        },
        "id": "lo-KpM4CdQro",
        "outputId": "4e7fa2cc-9c96-4c02-c460-35c52e8fb3a7"
      },
      "execution_count": 9,
      "outputs": [
        {
          "output_type": "stream",
          "name": "stdout",
          "text": [
            "Total number of classes (persons): 877\n"
          ]
        }
      ]
    },
    {
      "cell_type": "code",
      "source": [
        "!pip install timm albumentations\n"
      ],
      "metadata": {
        "colab": {
          "base_uri": "https://localhost:8080/"
        },
        "id": "xExgTPGDdWQZ",
        "outputId": "31e7e2a3-ac71-4657-e2eb-1b20cbfc7aae"
      },
      "execution_count": 10,
      "outputs": [
        {
          "output_type": "stream",
          "name": "stdout",
          "text": [
            "Requirement already satisfied: timm in /usr/local/lib/python3.11/dist-packages (1.0.16)\n",
            "Requirement already satisfied: albumentations in /usr/local/lib/python3.11/dist-packages (2.0.8)\n",
            "Requirement already satisfied: torch in /usr/local/lib/python3.11/dist-packages (from timm) (2.2.2)\n",
            "Requirement already satisfied: torchvision in /usr/local/lib/python3.11/dist-packages (from timm) (0.17.2)\n",
            "Requirement already satisfied: pyyaml in /usr/local/lib/python3.11/dist-packages (from timm) (6.0.2)\n",
            "Requirement already satisfied: huggingface_hub in /usr/local/lib/python3.11/dist-packages (from timm) (0.33.1)\n",
            "Requirement already satisfied: safetensors in /usr/local/lib/python3.11/dist-packages (from timm) (0.5.3)\n",
            "Requirement already satisfied: numpy>=1.24.4 in /usr/local/lib/python3.11/dist-packages (from albumentations) (1.26.4)\n",
            "Requirement already satisfied: scipy>=1.10.0 in /usr/local/lib/python3.11/dist-packages (from albumentations) (1.15.3)\n",
            "Requirement already satisfied: pydantic>=2.9.2 in /usr/local/lib/python3.11/dist-packages (from albumentations) (2.11.7)\n",
            "Requirement already satisfied: albucore==0.0.24 in /usr/local/lib/python3.11/dist-packages (from albumentations) (0.0.24)\n",
            "Requirement already satisfied: opencv-python-headless>=4.9.0.80 in /usr/local/lib/python3.11/dist-packages (from albumentations) (4.11.0.86)\n",
            "Requirement already satisfied: stringzilla>=3.10.4 in /usr/local/lib/python3.11/dist-packages (from albucore==0.0.24->albumentations) (3.12.5)\n",
            "Requirement already satisfied: simsimd>=5.9.2 in /usr/local/lib/python3.11/dist-packages (from albucore==0.0.24->albumentations) (6.4.9)\n",
            "Requirement already satisfied: annotated-types>=0.6.0 in /usr/local/lib/python3.11/dist-packages (from pydantic>=2.9.2->albumentations) (0.7.0)\n",
            "Requirement already satisfied: pydantic-core==2.33.2 in /usr/local/lib/python3.11/dist-packages (from pydantic>=2.9.2->albumentations) (2.33.2)\n",
            "Requirement already satisfied: typing-extensions>=4.12.2 in /usr/local/lib/python3.11/dist-packages (from pydantic>=2.9.2->albumentations) (4.14.0)\n",
            "Requirement already satisfied: typing-inspection>=0.4.0 in /usr/local/lib/python3.11/dist-packages (from pydantic>=2.9.2->albumentations) (0.4.1)\n",
            "Requirement already satisfied: filelock in /usr/local/lib/python3.11/dist-packages (from huggingface_hub->timm) (3.18.0)\n",
            "Requirement already satisfied: fsspec>=2023.5.0 in /usr/local/lib/python3.11/dist-packages (from huggingface_hub->timm) (2025.3.2)\n",
            "Requirement already satisfied: packaging>=20.9 in /usr/local/lib/python3.11/dist-packages (from huggingface_hub->timm) (24.2)\n",
            "Requirement already satisfied: requests in /usr/local/lib/python3.11/dist-packages (from huggingface_hub->timm) (2.32.3)\n",
            "Requirement already satisfied: tqdm>=4.42.1 in /usr/local/lib/python3.11/dist-packages (from huggingface_hub->timm) (4.67.1)\n",
            "Requirement already satisfied: hf-xet<2.0.0,>=1.1.2 in /usr/local/lib/python3.11/dist-packages (from huggingface_hub->timm) (1.1.5)\n",
            "Requirement already satisfied: sympy in /usr/local/lib/python3.11/dist-packages (from torch->timm) (1.13.1)\n",
            "Requirement already satisfied: networkx in /usr/local/lib/python3.11/dist-packages (from torch->timm) (3.5)\n",
            "Requirement already satisfied: jinja2 in /usr/local/lib/python3.11/dist-packages (from torch->timm) (3.1.6)\n",
            "Requirement already satisfied: nvidia-cuda-nvrtc-cu12==12.1.105 in /usr/local/lib/python3.11/dist-packages (from torch->timm) (12.1.105)\n",
            "Requirement already satisfied: nvidia-cuda-runtime-cu12==12.1.105 in /usr/local/lib/python3.11/dist-packages (from torch->timm) (12.1.105)\n",
            "Requirement already satisfied: nvidia-cuda-cupti-cu12==12.1.105 in /usr/local/lib/python3.11/dist-packages (from torch->timm) (12.1.105)\n",
            "Requirement already satisfied: nvidia-cudnn-cu12==8.9.2.26 in /usr/local/lib/python3.11/dist-packages (from torch->timm) (8.9.2.26)\n",
            "Requirement already satisfied: nvidia-cublas-cu12==12.1.3.1 in /usr/local/lib/python3.11/dist-packages (from torch->timm) (12.1.3.1)\n",
            "Requirement already satisfied: nvidia-cufft-cu12==11.0.2.54 in /usr/local/lib/python3.11/dist-packages (from torch->timm) (11.0.2.54)\n",
            "Requirement already satisfied: nvidia-curand-cu12==10.3.2.106 in /usr/local/lib/python3.11/dist-packages (from torch->timm) (10.3.2.106)\n",
            "Requirement already satisfied: nvidia-cusolver-cu12==11.4.5.107 in /usr/local/lib/python3.11/dist-packages (from torch->timm) (11.4.5.107)\n",
            "Requirement already satisfied: nvidia-cusparse-cu12==12.1.0.106 in /usr/local/lib/python3.11/dist-packages (from torch->timm) (12.1.0.106)\n",
            "Requirement already satisfied: nvidia-nccl-cu12==2.19.3 in /usr/local/lib/python3.11/dist-packages (from torch->timm) (2.19.3)\n",
            "Requirement already satisfied: nvidia-nvtx-cu12==12.1.105 in /usr/local/lib/python3.11/dist-packages (from torch->timm) (12.1.105)\n",
            "Requirement already satisfied: triton==2.2.0 in /usr/local/lib/python3.11/dist-packages (from torch->timm) (2.2.0)\n",
            "Requirement already satisfied: nvidia-nvjitlink-cu12 in /usr/local/lib/python3.11/dist-packages (from nvidia-cusolver-cu12==11.4.5.107->torch->timm) (12.4.127)\n",
            "Requirement already satisfied: pillow!=8.3.*,>=5.3.0 in /usr/local/lib/python3.11/dist-packages (from torchvision->timm) (10.2.0)\n",
            "Requirement already satisfied: MarkupSafe>=2.0 in /usr/local/lib/python3.11/dist-packages (from jinja2->torch->timm) (3.0.2)\n",
            "Requirement already satisfied: charset-normalizer<4,>=2 in /usr/local/lib/python3.11/dist-packages (from requests->huggingface_hub->timm) (3.4.2)\n",
            "Requirement already satisfied: idna<4,>=2.5 in /usr/local/lib/python3.11/dist-packages (from requests->huggingface_hub->timm) (3.10)\n",
            "Requirement already satisfied: urllib3<3,>=1.21.1 in /usr/local/lib/python3.11/dist-packages (from requests->huggingface_hub->timm) (2.4.0)\n",
            "Requirement already satisfied: certifi>=2017.4.17 in /usr/local/lib/python3.11/dist-packages (from requests->huggingface_hub->timm) (2025.6.15)\n",
            "Requirement already satisfied: mpmath<1.4,>=1.1.0 in /usr/local/lib/python3.11/dist-packages (from sympy->torch->timm) (1.3.0)\n"
          ]
        }
      ]
    },
    {
      "cell_type": "code",
      "source": [
        "!pip install facenet-pytorch -q\n"
      ],
      "metadata": {
        "id": "vwDW97oNtdkb"
      },
      "execution_count": 12,
      "outputs": []
    },
    {
      "cell_type": "code",
      "source": [
        "\n",
        "import os\n",
        "import numpy as np\n",
        "from PIL import Image\n",
        "from tqdm import tqdm\n",
        "import torch\n",
        "from facenet_pytorch import InceptionResnetV1\n",
        "from torchvision import transforms\n",
        "from torchvision.datasets import ImageFolder\n",
        "from sklearn.metrics import roc_auc_score, accuracy_score, f1_score, precision_score, recall_score\n",
        "from sklearn.metrics.pairwise import cosine_similarity\n",
        "import random\n",
        "\n",
        "train_path = \"/content/Comys_Hackathon5/Task_B_reorganized\"\n",
        "\n",
        "device = torch.device(\"cuda\" if torch.cuda.is_available() else \"cpu\")\n",
        "model = InceptionResnetV1(pretrained='vggface2').eval().to(device)\n",
        "\n",
        "transform = transforms.Compose([\n",
        "    transforms.Resize((160, 160)),\n",
        "    transforms.ToTensor(),\n",
        "    transforms.Normalize(mean=[0.5]*3, std=[0.5]*3)\n",
        "])\n",
        "\n",
        "train_dataset = ImageFolder(train_path)\n",
        "\n",
        "def get_embeddings(dataset):\n",
        "    embeddings = []\n",
        "    labels = []\n",
        "    image_paths = []\n",
        "\n",
        "    for path, label in tqdm(dataset.samples):\n",
        "        try:\n",
        "            img = Image.open(path).convert('RGB')\n",
        "            img_tensor = transform(img).unsqueeze(0).to(device)\n",
        "            with torch.no_grad():\n",
        "                emb = model(img_tensor).cpu().numpy().squeeze()\n",
        "            embeddings.append(emb)\n",
        "            labels.append(label)\n",
        "            image_paths.append(path)\n",
        "        except:\n",
        "            continue\n",
        "\n",
        "    return np.array(embeddings), np.array(labels), image_paths\n",
        "\n",
        "train_embeddings, train_labels, train_paths = get_embeddings(train_dataset)"
      ],
      "metadata": {
        "colab": {
          "base_uri": "https://localhost:8080/"
        },
        "id": "HQj8z_TTq6AX",
        "outputId": "77c40c2b-8798-4c73-8e52-326a90334489"
      },
      "execution_count": 18,
      "outputs": [
        {
          "output_type": "stream",
          "name": "stderr",
          "text": [
            "100%|██████████| 13482/13482 [07:49<00:00, 28.69it/s]\n"
          ]
        }
      ]
    },
    {
      "cell_type": "code",
      "source": [
        "import pickle\n",
        "import json\n",
        "from sklearn.preprocessing import StandardScaler\n",
        "from sklearn.neighbors import KNeighborsClassifier\n",
        "\n",
        "scaler = StandardScaler()\n",
        "train_embeddings_scaled = scaler.fit_transform(train_embeddings)\n",
        "\n",
        "with open(\"scaler.pkl\", \"wb\") as f:\n",
        "    pickle.dump(scaler, f)\n",
        "\n",
        "idx_to_class = {v: k for k, v in train_dataset.class_to_idx.items()}\n",
        "with open(\"class_mapping.json\", \"w\") as f:\n",
        "    json.dump(idx_to_class, f)\n",
        "\n",
        "knn = KNeighborsClassifier(n_neighbors=5, metric='cosine')\n",
        "knn.fit(train_embeddings_scaled, train_labels)\n",
        "\n",
        "with open(\"knn_model.pkl\", \"wb\") as f:\n",
        "    pickle.dump(knn, f)\n",
        "\n",
        "np.save(\"train_features.npy\", train_embeddings)\n",
        "np.save(\"train_labels.npy\", train_labels)"
      ],
      "metadata": {
        "id": "fXIwxLR3Kcb9"
      },
      "execution_count": 19,
      "outputs": []
    },
    {
      "cell_type": "code",
      "source": [
        "from google.colab import files\n",
        "\n",
        "files.download(\"knn_model.pkl\")\n",
        "files.download(\"scaler.pkl\")\n",
        "files.download(\"class_mapping.json\")\n",
        "files.download(\"train_features.npy\")\n",
        "files.download(\"train_labels.npy\")"
      ],
      "metadata": {
        "id": "JZOxU1kMKimi",
        "outputId": "e6974f99-b6d3-450f-c7b7-0a145a6a0704",
        "colab": {
          "base_uri": "https://localhost:8080/",
          "height": 17
        }
      },
      "execution_count": 20,
      "outputs": [
        {
          "output_type": "display_data",
          "data": {
            "text/plain": [
              "<IPython.core.display.Javascript object>"
            ],
            "application/javascript": [
              "\n",
              "    async function download(id, filename, size) {\n",
              "      if (!google.colab.kernel.accessAllowed) {\n",
              "        return;\n",
              "      }\n",
              "      const div = document.createElement('div');\n",
              "      const label = document.createElement('label');\n",
              "      label.textContent = `Downloading \"${filename}\": `;\n",
              "      div.appendChild(label);\n",
              "      const progress = document.createElement('progress');\n",
              "      progress.max = size;\n",
              "      div.appendChild(progress);\n",
              "      document.body.appendChild(div);\n",
              "\n",
              "      const buffers = [];\n",
              "      let downloaded = 0;\n",
              "\n",
              "      const channel = await google.colab.kernel.comms.open(id);\n",
              "      // Send a message to notify the kernel that we're ready.\n",
              "      channel.send({})\n",
              "\n",
              "      for await (const message of channel.messages) {\n",
              "        // Send a message to notify the kernel that we're ready.\n",
              "        channel.send({})\n",
              "        if (message.buffers) {\n",
              "          for (const buffer of message.buffers) {\n",
              "            buffers.push(buffer);\n",
              "            downloaded += buffer.byteLength;\n",
              "            progress.value = downloaded;\n",
              "          }\n",
              "        }\n",
              "      }\n",
              "      const blob = new Blob(buffers, {type: 'application/binary'});\n",
              "      const a = document.createElement('a');\n",
              "      a.href = window.URL.createObjectURL(blob);\n",
              "      a.download = filename;\n",
              "      div.appendChild(a);\n",
              "      a.click();\n",
              "      div.remove();\n",
              "    }\n",
              "  "
            ]
          },
          "metadata": {}
        },
        {
          "output_type": "display_data",
          "data": {
            "text/plain": [
              "<IPython.core.display.Javascript object>"
            ],
            "application/javascript": [
              "download(\"download_285b8c82-dd02-4c81-b3bb-cb0c91a5651f\", \"knn_model.pkl\", 27726670)"
            ]
          },
          "metadata": {}
        },
        {
          "output_type": "display_data",
          "data": {
            "text/plain": [
              "<IPython.core.display.Javascript object>"
            ],
            "application/javascript": [
              "\n",
              "    async function download(id, filename, size) {\n",
              "      if (!google.colab.kernel.accessAllowed) {\n",
              "        return;\n",
              "      }\n",
              "      const div = document.createElement('div');\n",
              "      const label = document.createElement('label');\n",
              "      label.textContent = `Downloading \"${filename}\": `;\n",
              "      div.appendChild(label);\n",
              "      const progress = document.createElement('progress');\n",
              "      progress.max = size;\n",
              "      div.appendChild(progress);\n",
              "      document.body.appendChild(div);\n",
              "\n",
              "      const buffers = [];\n",
              "      let downloaded = 0;\n",
              "\n",
              "      const channel = await google.colab.kernel.comms.open(id);\n",
              "      // Send a message to notify the kernel that we're ready.\n",
              "      channel.send({})\n",
              "\n",
              "      for await (const message of channel.messages) {\n",
              "        // Send a message to notify the kernel that we're ready.\n",
              "        channel.send({})\n",
              "        if (message.buffers) {\n",
              "          for (const buffer of message.buffers) {\n",
              "            buffers.push(buffer);\n",
              "            downloaded += buffer.byteLength;\n",
              "            progress.value = downloaded;\n",
              "          }\n",
              "        }\n",
              "      }\n",
              "      const blob = new Blob(buffers, {type: 'application/binary'});\n",
              "      const a = document.createElement('a');\n",
              "      a.href = window.URL.createObjectURL(blob);\n",
              "      a.download = filename;\n",
              "      div.appendChild(a);\n",
              "      a.click();\n",
              "      div.remove();\n",
              "    }\n",
              "  "
            ]
          },
          "metadata": {}
        },
        {
          "output_type": "display_data",
          "data": {
            "text/plain": [
              "<IPython.core.display.Javascript object>"
            ],
            "application/javascript": [
              "download(\"download_9c7cc8a0-f612-432b-a517-99c02de3d47f\", \"scaler.pkl\", 12750)"
            ]
          },
          "metadata": {}
        },
        {
          "output_type": "display_data",
          "data": {
            "text/plain": [
              "<IPython.core.display.Javascript object>"
            ],
            "application/javascript": [
              "\n",
              "    async function download(id, filename, size) {\n",
              "      if (!google.colab.kernel.accessAllowed) {\n",
              "        return;\n",
              "      }\n",
              "      const div = document.createElement('div');\n",
              "      const label = document.createElement('label');\n",
              "      label.textContent = `Downloading \"${filename}\": `;\n",
              "      div.appendChild(label);\n",
              "      const progress = document.createElement('progress');\n",
              "      progress.max = size;\n",
              "      div.appendChild(progress);\n",
              "      document.body.appendChild(div);\n",
              "\n",
              "      const buffers = [];\n",
              "      let downloaded = 0;\n",
              "\n",
              "      const channel = await google.colab.kernel.comms.open(id);\n",
              "      // Send a message to notify the kernel that we're ready.\n",
              "      channel.send({})\n",
              "\n",
              "      for await (const message of channel.messages) {\n",
              "        // Send a message to notify the kernel that we're ready.\n",
              "        channel.send({})\n",
              "        if (message.buffers) {\n",
              "          for (const buffer of message.buffers) {\n",
              "            buffers.push(buffer);\n",
              "            downloaded += buffer.byteLength;\n",
              "            progress.value = downloaded;\n",
              "          }\n",
              "        }\n",
              "      }\n",
              "      const blob = new Blob(buffers, {type: 'application/binary'});\n",
              "      const a = document.createElement('a');\n",
              "      a.href = window.URL.createObjectURL(blob);\n",
              "      a.download = filename;\n",
              "      div.appendChild(a);\n",
              "      a.click();\n",
              "      div.remove();\n",
              "    }\n",
              "  "
            ]
          },
          "metadata": {}
        },
        {
          "output_type": "display_data",
          "data": {
            "text/plain": [
              "<IPython.core.display.Javascript object>"
            ],
            "application/javascript": [
              "download(\"download_eee101a0-0c73-405d-817b-a68c53921c2b\", \"class_mapping.json\", 21058)"
            ]
          },
          "metadata": {}
        },
        {
          "output_type": "display_data",
          "data": {
            "text/plain": [
              "<IPython.core.display.Javascript object>"
            ],
            "application/javascript": [
              "\n",
              "    async function download(id, filename, size) {\n",
              "      if (!google.colab.kernel.accessAllowed) {\n",
              "        return;\n",
              "      }\n",
              "      const div = document.createElement('div');\n",
              "      const label = document.createElement('label');\n",
              "      label.textContent = `Downloading \"${filename}\": `;\n",
              "      div.appendChild(label);\n",
              "      const progress = document.createElement('progress');\n",
              "      progress.max = size;\n",
              "      div.appendChild(progress);\n",
              "      document.body.appendChild(div);\n",
              "\n",
              "      const buffers = [];\n",
              "      let downloaded = 0;\n",
              "\n",
              "      const channel = await google.colab.kernel.comms.open(id);\n",
              "      // Send a message to notify the kernel that we're ready.\n",
              "      channel.send({})\n",
              "\n",
              "      for await (const message of channel.messages) {\n",
              "        // Send a message to notify the kernel that we're ready.\n",
              "        channel.send({})\n",
              "        if (message.buffers) {\n",
              "          for (const buffer of message.buffers) {\n",
              "            buffers.push(buffer);\n",
              "            downloaded += buffer.byteLength;\n",
              "            progress.value = downloaded;\n",
              "          }\n",
              "        }\n",
              "      }\n",
              "      const blob = new Blob(buffers, {type: 'application/binary'});\n",
              "      const a = document.createElement('a');\n",
              "      a.href = window.URL.createObjectURL(blob);\n",
              "      a.download = filename;\n",
              "      div.appendChild(a);\n",
              "      a.click();\n",
              "      div.remove();\n",
              "    }\n",
              "  "
            ]
          },
          "metadata": {}
        },
        {
          "output_type": "display_data",
          "data": {
            "text/plain": [
              "<IPython.core.display.Javascript object>"
            ],
            "application/javascript": [
              "download(\"download_435c4eb3-66a4-4019-b9ec-15540f5b1474\", \"train_features.npy\", 27611264)"
            ]
          },
          "metadata": {}
        },
        {
          "output_type": "display_data",
          "data": {
            "text/plain": [
              "<IPython.core.display.Javascript object>"
            ],
            "application/javascript": [
              "\n",
              "    async function download(id, filename, size) {\n",
              "      if (!google.colab.kernel.accessAllowed) {\n",
              "        return;\n",
              "      }\n",
              "      const div = document.createElement('div');\n",
              "      const label = document.createElement('label');\n",
              "      label.textContent = `Downloading \"${filename}\": `;\n",
              "      div.appendChild(label);\n",
              "      const progress = document.createElement('progress');\n",
              "      progress.max = size;\n",
              "      div.appendChild(progress);\n",
              "      document.body.appendChild(div);\n",
              "\n",
              "      const buffers = [];\n",
              "      let downloaded = 0;\n",
              "\n",
              "      const channel = await google.colab.kernel.comms.open(id);\n",
              "      // Send a message to notify the kernel that we're ready.\n",
              "      channel.send({})\n",
              "\n",
              "      for await (const message of channel.messages) {\n",
              "        // Send a message to notify the kernel that we're ready.\n",
              "        channel.send({})\n",
              "        if (message.buffers) {\n",
              "          for (const buffer of message.buffers) {\n",
              "            buffers.push(buffer);\n",
              "            downloaded += buffer.byteLength;\n",
              "            progress.value = downloaded;\n",
              "          }\n",
              "        }\n",
              "      }\n",
              "      const blob = new Blob(buffers, {type: 'application/binary'});\n",
              "      const a = document.createElement('a');\n",
              "      a.href = window.URL.createObjectURL(blob);\n",
              "      a.download = filename;\n",
              "      div.appendChild(a);\n",
              "      a.click();\n",
              "      div.remove();\n",
              "    }\n",
              "  "
            ]
          },
          "metadata": {}
        },
        {
          "output_type": "display_data",
          "data": {
            "text/plain": [
              "<IPython.core.display.Javascript object>"
            ],
            "application/javascript": [
              "download(\"download_90b2ea1c-193b-43dd-a0f0-7329b58089a7\", \"train_labels.npy\", 107984)"
            ]
          },
          "metadata": {}
        }
      ]
    },
    {
      "cell_type": "code",
      "source": [
        "def create_pairs(embeddings, labels, num_pairs=1000):\n",
        "    positive_pairs = []\n",
        "    negative_pairs = []\n",
        "\n",
        "    label_to_indices = {}\n",
        "    for idx, label in enumerate(labels):\n",
        "        label_to_indices.setdefault(label, []).append(idx)\n",
        "\n",
        "    # Generate positive pairs\n",
        "    for _ in range(num_pairs):\n",
        "        label = random.choice(list(label_to_indices.keys()))\n",
        "        if len(label_to_indices[label]) < 2:\n",
        "            continue\n",
        "        i1, i2 = random.sample(label_to_indices[label], 2)\n",
        "        positive_pairs.append((embeddings[i1], embeddings[i2], 1))\n",
        "\n",
        "    # Generate negative pairs\n",
        "    for _ in range(num_pairs):\n",
        "        l1, l2 = random.sample(list(label_to_indices.keys()), 2)\n",
        "        i1 = random.choice(label_to_indices[l1])\n",
        "        i2 = random.choice(label_to_indices[l2])\n",
        "        negative_pairs.append((embeddings[i1], embeddings[i2], 0))\n",
        "\n",
        "    return positive_pairs + negative_pairs\n",
        "\n",
        "pairs = create_pairs(train_embeddings, train_labels, num_pairs=1000)\n",
        "\n",
        "similarities = []\n",
        "true_labels = []\n",
        "\n",
        "for emb1, emb2, label in pairs:\n",
        "    sim = cosine_similarity([emb1], [emb2])[0][0]\n",
        "    similarities.append(sim)\n",
        "    true_labels.append(label)\n",
        "\n",
        "similarities = np.array(similarities)\n",
        "true_labels = np.array(true_labels)"
      ],
      "metadata": {
        "id": "cox40tBUsB1c"
      },
      "execution_count": 21,
      "outputs": []
    },
    {
      "cell_type": "code",
      "source": [
        "threshold = 0.6\n",
        "\n",
        "pred_labels = (similarities >= threshold).astype(int)\n",
        "\n",
        "# ✅ Compute Metrics\n",
        "accuracy = accuracy_score(true_labels, pred_labels)\n",
        "precision = precision_score(true_labels, pred_labels)\n",
        "recall = recall_score(true_labels, pred_labels)\n",
        "f1 = f1_score(true_labels, pred_labels)\n",
        "auc = roc_auc_score(true_labels, similarities)\n",
        "\n",
        "print(f\"✅ Face Verification Metrics:\")\n",
        "print(f\"Accuracy   : {accuracy:.4f}\")\n",
        "print(f\"Precision  : {precision:.4f}\")\n",
        "print(f\"Recall     : {recall:.4f}\")\n",
        "print(f\"F1 Score   : {f1:.4f}\")\n",
        "print(f\"ROC-AUC    : {auc:.4f}\")"
      ],
      "metadata": {
        "colab": {
          "base_uri": "https://localhost:8080/"
        },
        "id": "Yog8f0HxsLkM",
        "outputId": "b58f6d44-9489-476c-b684-f82fec90d40c"
      },
      "execution_count": 22,
      "outputs": [
        {
          "output_type": "stream",
          "name": "stdout",
          "text": [
            "✅ Face Verification Metrics:\n",
            "Accuracy   : 0.7525\n",
            "Precision  : 0.9685\n",
            "Recall     : 0.5220\n",
            "F1 Score   : 0.6784\n",
            "ROC-AUC    : 0.8512\n"
          ]
        }
      ]
    },
    {
      "cell_type": "code",
      "source": [],
      "metadata": {
        "id": "Bvw7AEEzyhQ4"
      },
      "execution_count": null,
      "outputs": []
    }
  ]
}